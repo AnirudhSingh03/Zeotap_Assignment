{
 "cells": [
  {
   "cell_type": "markdown",
   "id": "8a691fda",
   "metadata": {},
   "source": [
    "# Task 1 : Exploratory Data Analysis (EDA) and Business Insights "
   ]
  },
  {
   "cell_type": "code",
   "execution_count": 1,
   "id": "db496eea",
   "metadata": {},
   "outputs": [
    {
     "name": "stderr",
     "output_type": "stream",
     "text": [
      "C:\\Users\\Ram\\anaconda3\\Lib\\site-packages\\pandas\\core\\arrays\\masked.py:60: UserWarning: Pandas requires version '1.3.6' or newer of 'bottleneck' (version '1.3.5' currently installed).\n",
      "  from pandas.core import (\n"
     ]
    }
   ],
   "source": [
    "import pandas as pd"
   ]
  },
  {
   "cell_type": "code",
   "execution_count": 2,
   "id": "5afb2b8d",
   "metadata": {},
   "outputs": [],
   "source": [
    "df_Transactions=pd.read_csv(\"Transactions.csv\")\n",
    "df_Products=pd.read_csv(\"Products.csv\")\n",
    "df_Customers=pd.read_csv(\"Customers.csv\")"
   ]
  },
  {
   "cell_type": "code",
   "execution_count": 3,
   "id": "5445d364",
   "metadata": {},
   "outputs": [
    {
     "data": {
      "text/html": [
       "<div>\n",
       "<style scoped>\n",
       "    .dataframe tbody tr th:only-of-type {\n",
       "        vertical-align: middle;\n",
       "    }\n",
       "\n",
       "    .dataframe tbody tr th {\n",
       "        vertical-align: top;\n",
       "    }\n",
       "\n",
       "    .dataframe thead th {\n",
       "        text-align: right;\n",
       "    }\n",
       "</style>\n",
       "<table border=\"1\" class=\"dataframe\">\n",
       "  <thead>\n",
       "    <tr style=\"text-align: right;\">\n",
       "      <th></th>\n",
       "      <th>ProductID</th>\n",
       "      <th>ProductName</th>\n",
       "      <th>Category</th>\n",
       "      <th>Price</th>\n",
       "    </tr>\n",
       "  </thead>\n",
       "  <tbody>\n",
       "    <tr>\n",
       "      <th>0</th>\n",
       "      <td>P001</td>\n",
       "      <td>ActiveWear Biography</td>\n",
       "      <td>Books</td>\n",
       "      <td>169.30</td>\n",
       "    </tr>\n",
       "    <tr>\n",
       "      <th>1</th>\n",
       "      <td>P002</td>\n",
       "      <td>ActiveWear Smartwatch</td>\n",
       "      <td>Electronics</td>\n",
       "      <td>346.30</td>\n",
       "    </tr>\n",
       "    <tr>\n",
       "      <th>2</th>\n",
       "      <td>P003</td>\n",
       "      <td>ComfortLiving Biography</td>\n",
       "      <td>Books</td>\n",
       "      <td>44.12</td>\n",
       "    </tr>\n",
       "    <tr>\n",
       "      <th>3</th>\n",
       "      <td>P004</td>\n",
       "      <td>BookWorld Rug</td>\n",
       "      <td>Home Decor</td>\n",
       "      <td>95.69</td>\n",
       "    </tr>\n",
       "    <tr>\n",
       "      <th>4</th>\n",
       "      <td>P005</td>\n",
       "      <td>TechPro T-Shirt</td>\n",
       "      <td>Clothing</td>\n",
       "      <td>429.31</td>\n",
       "    </tr>\n",
       "  </tbody>\n",
       "</table>\n",
       "</div>"
      ],
      "text/plain": [
       "  ProductID              ProductName     Category   Price\n",
       "0      P001     ActiveWear Biography        Books  169.30\n",
       "1      P002    ActiveWear Smartwatch  Electronics  346.30\n",
       "2      P003  ComfortLiving Biography        Books   44.12\n",
       "3      P004            BookWorld Rug   Home Decor   95.69\n",
       "4      P005          TechPro T-Shirt     Clothing  429.31"
      ]
     },
     "execution_count": 3,
     "metadata": {},
     "output_type": "execute_result"
    }
   ],
   "source": [
    "df_Products.head(5)"
   ]
  },
  {
   "cell_type": "code",
   "execution_count": 4,
   "id": "53598ac0",
   "metadata": {},
   "outputs": [
    {
     "data": {
      "text/plain": [
       "ProductID      0\n",
       "ProductName    0\n",
       "Category       0\n",
       "Price          0\n",
       "dtype: int64"
      ]
     },
     "execution_count": 4,
     "metadata": {},
     "output_type": "execute_result"
    }
   ],
   "source": [
    "df_Products.isnull().sum()"
   ]
  },
  {
   "cell_type": "code",
   "execution_count": 5,
   "id": "bafa772a",
   "metadata": {},
   "outputs": [
    {
     "name": "stdout",
     "output_type": "stream",
     "text": [
      "<class 'pandas.core.frame.DataFrame'>\n",
      "RangeIndex: 100 entries, 0 to 99\n",
      "Data columns (total 4 columns):\n",
      " #   Column       Non-Null Count  Dtype  \n",
      "---  ------       --------------  -----  \n",
      " 0   ProductID    100 non-null    object \n",
      " 1   ProductName  100 non-null    object \n",
      " 2   Category     100 non-null    object \n",
      " 3   Price        100 non-null    float64\n",
      "dtypes: float64(1), object(3)\n",
      "memory usage: 3.3+ KB\n"
     ]
    }
   ],
   "source": [
    "df_Products.info()"
   ]
  },
  {
   "cell_type": "code",
   "execution_count": 6,
   "id": "a27f4e5c",
   "metadata": {},
   "outputs": [
    {
     "data": {
      "text/html": [
       "<div>\n",
       "<style scoped>\n",
       "    .dataframe tbody tr th:only-of-type {\n",
       "        vertical-align: middle;\n",
       "    }\n",
       "\n",
       "    .dataframe tbody tr th {\n",
       "        vertical-align: top;\n",
       "    }\n",
       "\n",
       "    .dataframe thead th {\n",
       "        text-align: right;\n",
       "    }\n",
       "</style>\n",
       "<table border=\"1\" class=\"dataframe\">\n",
       "  <thead>\n",
       "    <tr style=\"text-align: right;\">\n",
       "      <th></th>\n",
       "      <th>Price</th>\n",
       "    </tr>\n",
       "  </thead>\n",
       "  <tbody>\n",
       "    <tr>\n",
       "      <th>count</th>\n",
       "      <td>100.000000</td>\n",
       "    </tr>\n",
       "    <tr>\n",
       "      <th>mean</th>\n",
       "      <td>267.551700</td>\n",
       "    </tr>\n",
       "    <tr>\n",
       "      <th>std</th>\n",
       "      <td>143.219383</td>\n",
       "    </tr>\n",
       "    <tr>\n",
       "      <th>min</th>\n",
       "      <td>16.080000</td>\n",
       "    </tr>\n",
       "    <tr>\n",
       "      <th>25%</th>\n",
       "      <td>147.767500</td>\n",
       "    </tr>\n",
       "    <tr>\n",
       "      <th>50%</th>\n",
       "      <td>292.875000</td>\n",
       "    </tr>\n",
       "    <tr>\n",
       "      <th>75%</th>\n",
       "      <td>397.090000</td>\n",
       "    </tr>\n",
       "    <tr>\n",
       "      <th>max</th>\n",
       "      <td>497.760000</td>\n",
       "    </tr>\n",
       "  </tbody>\n",
       "</table>\n",
       "</div>"
      ],
      "text/plain": [
       "            Price\n",
       "count  100.000000\n",
       "mean   267.551700\n",
       "std    143.219383\n",
       "min     16.080000\n",
       "25%    147.767500\n",
       "50%    292.875000\n",
       "75%    397.090000\n",
       "max    497.760000"
      ]
     },
     "execution_count": 6,
     "metadata": {},
     "output_type": "execute_result"
    }
   ],
   "source": [
    "df_Products.describe()"
   ]
  },
  {
   "cell_type": "code",
   "execution_count": 7,
   "id": "61a731b4",
   "metadata": {},
   "outputs": [
    {
     "data": {
      "text/html": [
       "<div>\n",
       "<style scoped>\n",
       "    .dataframe tbody tr th:only-of-type {\n",
       "        vertical-align: middle;\n",
       "    }\n",
       "\n",
       "    .dataframe tbody tr th {\n",
       "        vertical-align: top;\n",
       "    }\n",
       "\n",
       "    .dataframe thead th {\n",
       "        text-align: right;\n",
       "    }\n",
       "</style>\n",
       "<table border=\"1\" class=\"dataframe\">\n",
       "  <thead>\n",
       "    <tr style=\"text-align: right;\">\n",
       "      <th></th>\n",
       "      <th>TransactionID</th>\n",
       "      <th>CustomerID</th>\n",
       "      <th>ProductID</th>\n",
       "      <th>TransactionDate</th>\n",
       "      <th>Quantity</th>\n",
       "      <th>TotalValue</th>\n",
       "      <th>Price</th>\n",
       "    </tr>\n",
       "  </thead>\n",
       "  <tbody>\n",
       "    <tr>\n",
       "      <th>0</th>\n",
       "      <td>T00001</td>\n",
       "      <td>C0199</td>\n",
       "      <td>P067</td>\n",
       "      <td>2024-08-25 12:38:23</td>\n",
       "      <td>1</td>\n",
       "      <td>300.68</td>\n",
       "      <td>300.68</td>\n",
       "    </tr>\n",
       "    <tr>\n",
       "      <th>1</th>\n",
       "      <td>T00112</td>\n",
       "      <td>C0146</td>\n",
       "      <td>P067</td>\n",
       "      <td>2024-05-27 22:23:54</td>\n",
       "      <td>1</td>\n",
       "      <td>300.68</td>\n",
       "      <td>300.68</td>\n",
       "    </tr>\n",
       "    <tr>\n",
       "      <th>2</th>\n",
       "      <td>T00166</td>\n",
       "      <td>C0127</td>\n",
       "      <td>P067</td>\n",
       "      <td>2024-04-25 07:38:55</td>\n",
       "      <td>1</td>\n",
       "      <td>300.68</td>\n",
       "      <td>300.68</td>\n",
       "    </tr>\n",
       "    <tr>\n",
       "      <th>3</th>\n",
       "      <td>T00272</td>\n",
       "      <td>C0087</td>\n",
       "      <td>P067</td>\n",
       "      <td>2024-03-26 22:55:37</td>\n",
       "      <td>2</td>\n",
       "      <td>601.36</td>\n",
       "      <td>300.68</td>\n",
       "    </tr>\n",
       "    <tr>\n",
       "      <th>4</th>\n",
       "      <td>T00363</td>\n",
       "      <td>C0070</td>\n",
       "      <td>P067</td>\n",
       "      <td>2024-03-21 15:10:10</td>\n",
       "      <td>3</td>\n",
       "      <td>902.04</td>\n",
       "      <td>300.68</td>\n",
       "    </tr>\n",
       "  </tbody>\n",
       "</table>\n",
       "</div>"
      ],
      "text/plain": [
       "  TransactionID CustomerID ProductID      TransactionDate  Quantity  \\\n",
       "0        T00001      C0199      P067  2024-08-25 12:38:23         1   \n",
       "1        T00112      C0146      P067  2024-05-27 22:23:54         1   \n",
       "2        T00166      C0127      P067  2024-04-25 07:38:55         1   \n",
       "3        T00272      C0087      P067  2024-03-26 22:55:37         2   \n",
       "4        T00363      C0070      P067  2024-03-21 15:10:10         3   \n",
       "\n",
       "   TotalValue   Price  \n",
       "0      300.68  300.68  \n",
       "1      300.68  300.68  \n",
       "2      300.68  300.68  \n",
       "3      601.36  300.68  \n",
       "4      902.04  300.68  "
      ]
     },
     "execution_count": 7,
     "metadata": {},
     "output_type": "execute_result"
    }
   ],
   "source": [
    "df_Transactions.head(5)"
   ]
  },
  {
   "cell_type": "code",
   "execution_count": 8,
   "id": "8dc7e4a2",
   "metadata": {},
   "outputs": [
    {
     "data": {
      "text/plain": [
       "TransactionID      0\n",
       "CustomerID         0\n",
       "ProductID          0\n",
       "TransactionDate    0\n",
       "Quantity           0\n",
       "TotalValue         0\n",
       "Price              0\n",
       "dtype: int64"
      ]
     },
     "execution_count": 8,
     "metadata": {},
     "output_type": "execute_result"
    }
   ],
   "source": [
    "df_Transactions.isnull().sum()"
   ]
  },
  {
   "cell_type": "code",
   "execution_count": 9,
   "id": "137fac30",
   "metadata": {},
   "outputs": [
    {
     "name": "stdout",
     "output_type": "stream",
     "text": [
      "<class 'pandas.core.frame.DataFrame'>\n",
      "RangeIndex: 1000 entries, 0 to 999\n",
      "Data columns (total 7 columns):\n",
      " #   Column           Non-Null Count  Dtype  \n",
      "---  ------           --------------  -----  \n",
      " 0   TransactionID    1000 non-null   object \n",
      " 1   CustomerID       1000 non-null   object \n",
      " 2   ProductID        1000 non-null   object \n",
      " 3   TransactionDate  1000 non-null   object \n",
      " 4   Quantity         1000 non-null   int64  \n",
      " 5   TotalValue       1000 non-null   float64\n",
      " 6   Price            1000 non-null   float64\n",
      "dtypes: float64(2), int64(1), object(4)\n",
      "memory usage: 54.8+ KB\n"
     ]
    }
   ],
   "source": [
    "df_Transactions.info()"
   ]
  },
  {
   "cell_type": "code",
   "execution_count": 10,
   "id": "015b2096",
   "metadata": {},
   "outputs": [
    {
     "data": {
      "text/html": [
       "<div>\n",
       "<style scoped>\n",
       "    .dataframe tbody tr th:only-of-type {\n",
       "        vertical-align: middle;\n",
       "    }\n",
       "\n",
       "    .dataframe tbody tr th {\n",
       "        vertical-align: top;\n",
       "    }\n",
       "\n",
       "    .dataframe thead th {\n",
       "        text-align: right;\n",
       "    }\n",
       "</style>\n",
       "<table border=\"1\" class=\"dataframe\">\n",
       "  <thead>\n",
       "    <tr style=\"text-align: right;\">\n",
       "      <th></th>\n",
       "      <th>Quantity</th>\n",
       "      <th>TotalValue</th>\n",
       "      <th>Price</th>\n",
       "    </tr>\n",
       "  </thead>\n",
       "  <tbody>\n",
       "    <tr>\n",
       "      <th>count</th>\n",
       "      <td>1000.000000</td>\n",
       "      <td>1000.000000</td>\n",
       "      <td>1000.00000</td>\n",
       "    </tr>\n",
       "    <tr>\n",
       "      <th>mean</th>\n",
       "      <td>2.537000</td>\n",
       "      <td>689.995560</td>\n",
       "      <td>272.55407</td>\n",
       "    </tr>\n",
       "    <tr>\n",
       "      <th>std</th>\n",
       "      <td>1.117981</td>\n",
       "      <td>493.144478</td>\n",
       "      <td>140.73639</td>\n",
       "    </tr>\n",
       "    <tr>\n",
       "      <th>min</th>\n",
       "      <td>1.000000</td>\n",
       "      <td>16.080000</td>\n",
       "      <td>16.08000</td>\n",
       "    </tr>\n",
       "    <tr>\n",
       "      <th>25%</th>\n",
       "      <td>2.000000</td>\n",
       "      <td>295.295000</td>\n",
       "      <td>147.95000</td>\n",
       "    </tr>\n",
       "    <tr>\n",
       "      <th>50%</th>\n",
       "      <td>3.000000</td>\n",
       "      <td>588.880000</td>\n",
       "      <td>299.93000</td>\n",
       "    </tr>\n",
       "    <tr>\n",
       "      <th>75%</th>\n",
       "      <td>4.000000</td>\n",
       "      <td>1011.660000</td>\n",
       "      <td>404.40000</td>\n",
       "    </tr>\n",
       "    <tr>\n",
       "      <th>max</th>\n",
       "      <td>4.000000</td>\n",
       "      <td>1991.040000</td>\n",
       "      <td>497.76000</td>\n",
       "    </tr>\n",
       "  </tbody>\n",
       "</table>\n",
       "</div>"
      ],
      "text/plain": [
       "          Quantity   TotalValue       Price\n",
       "count  1000.000000  1000.000000  1000.00000\n",
       "mean      2.537000   689.995560   272.55407\n",
       "std       1.117981   493.144478   140.73639\n",
       "min       1.000000    16.080000    16.08000\n",
       "25%       2.000000   295.295000   147.95000\n",
       "50%       3.000000   588.880000   299.93000\n",
       "75%       4.000000  1011.660000   404.40000\n",
       "max       4.000000  1991.040000   497.76000"
      ]
     },
     "execution_count": 10,
     "metadata": {},
     "output_type": "execute_result"
    }
   ],
   "source": [
    "df_Transactions.describe()"
   ]
  },
  {
   "cell_type": "markdown",
   "id": "b3e0df3e",
   "metadata": {},
   "source": [
    "# Analysis about Customer"
   ]
  },
  {
   "cell_type": "code",
   "execution_count": 11,
   "id": "97e56534",
   "metadata": {},
   "outputs": [
    {
     "data": {
      "text/html": [
       "<div>\n",
       "<style scoped>\n",
       "    .dataframe tbody tr th:only-of-type {\n",
       "        vertical-align: middle;\n",
       "    }\n",
       "\n",
       "    .dataframe tbody tr th {\n",
       "        vertical-align: top;\n",
       "    }\n",
       "\n",
       "    .dataframe thead th {\n",
       "        text-align: right;\n",
       "    }\n",
       "</style>\n",
       "<table border=\"1\" class=\"dataframe\">\n",
       "  <thead>\n",
       "    <tr style=\"text-align: right;\">\n",
       "      <th></th>\n",
       "      <th>CustomerID</th>\n",
       "      <th>CustomerName</th>\n",
       "      <th>Region</th>\n",
       "      <th>SignupDate</th>\n",
       "    </tr>\n",
       "  </thead>\n",
       "  <tbody>\n",
       "    <tr>\n",
       "      <th>0</th>\n",
       "      <td>C0001</td>\n",
       "      <td>Lawrence Carroll</td>\n",
       "      <td>South America</td>\n",
       "      <td>2022-07-10</td>\n",
       "    </tr>\n",
       "    <tr>\n",
       "      <th>1</th>\n",
       "      <td>C0002</td>\n",
       "      <td>Elizabeth Lutz</td>\n",
       "      <td>Asia</td>\n",
       "      <td>2022-02-13</td>\n",
       "    </tr>\n",
       "    <tr>\n",
       "      <th>2</th>\n",
       "      <td>C0003</td>\n",
       "      <td>Michael Rivera</td>\n",
       "      <td>South America</td>\n",
       "      <td>2024-03-07</td>\n",
       "    </tr>\n",
       "    <tr>\n",
       "      <th>3</th>\n",
       "      <td>C0004</td>\n",
       "      <td>Kathleen Rodriguez</td>\n",
       "      <td>South America</td>\n",
       "      <td>2022-10-09</td>\n",
       "    </tr>\n",
       "    <tr>\n",
       "      <th>4</th>\n",
       "      <td>C0005</td>\n",
       "      <td>Laura Weber</td>\n",
       "      <td>Asia</td>\n",
       "      <td>2022-08-15</td>\n",
       "    </tr>\n",
       "  </tbody>\n",
       "</table>\n",
       "</div>"
      ],
      "text/plain": [
       "  CustomerID        CustomerName         Region  SignupDate\n",
       "0      C0001    Lawrence Carroll  South America  2022-07-10\n",
       "1      C0002      Elizabeth Lutz           Asia  2022-02-13\n",
       "2      C0003      Michael Rivera  South America  2024-03-07\n",
       "3      C0004  Kathleen Rodriguez  South America  2022-10-09\n",
       "4      C0005         Laura Weber           Asia  2022-08-15"
      ]
     },
     "execution_count": 11,
     "metadata": {},
     "output_type": "execute_result"
    }
   ],
   "source": [
    "df_Customers.head(5)"
   ]
  },
  {
   "cell_type": "code",
   "execution_count": 12,
   "id": "3df60a11",
   "metadata": {},
   "outputs": [
    {
     "data": {
      "text/plain": [
       "CustomerID      0\n",
       "CustomerName    0\n",
       "Region          0\n",
       "SignupDate      0\n",
       "dtype: int64"
      ]
     },
     "execution_count": 12,
     "metadata": {},
     "output_type": "execute_result"
    }
   ],
   "source": [
    "df_Customers.isnull().sum()"
   ]
  },
  {
   "cell_type": "code",
   "execution_count": 13,
   "id": "1b8acee3",
   "metadata": {},
   "outputs": [
    {
     "name": "stdout",
     "output_type": "stream",
     "text": [
      "<class 'pandas.core.frame.DataFrame'>\n",
      "RangeIndex: 200 entries, 0 to 199\n",
      "Data columns (total 4 columns):\n",
      " #   Column        Non-Null Count  Dtype \n",
      "---  ------        --------------  ----- \n",
      " 0   CustomerID    200 non-null    object\n",
      " 1   CustomerName  200 non-null    object\n",
      " 2   Region        200 non-null    object\n",
      " 3   SignupDate    200 non-null    object\n",
      "dtypes: object(4)\n",
      "memory usage: 6.4+ KB\n"
     ]
    }
   ],
   "source": [
    "df_Customers.info()"
   ]
  },
  {
   "cell_type": "code",
   "execution_count": 14,
   "id": "ab1180f6",
   "metadata": {},
   "outputs": [
    {
     "data": {
      "text/html": [
       "<div>\n",
       "<style scoped>\n",
       "    .dataframe tbody tr th:only-of-type {\n",
       "        vertical-align: middle;\n",
       "    }\n",
       "\n",
       "    .dataframe tbody tr th {\n",
       "        vertical-align: top;\n",
       "    }\n",
       "\n",
       "    .dataframe thead th {\n",
       "        text-align: right;\n",
       "    }\n",
       "</style>\n",
       "<table border=\"1\" class=\"dataframe\">\n",
       "  <thead>\n",
       "    <tr style=\"text-align: right;\">\n",
       "      <th></th>\n",
       "      <th>CustomerID</th>\n",
       "      <th>CustomerName</th>\n",
       "      <th>Region</th>\n",
       "      <th>SignupDate</th>\n",
       "    </tr>\n",
       "  </thead>\n",
       "  <tbody>\n",
       "    <tr>\n",
       "      <th>count</th>\n",
       "      <td>200</td>\n",
       "      <td>200</td>\n",
       "      <td>200</td>\n",
       "      <td>200</td>\n",
       "    </tr>\n",
       "    <tr>\n",
       "      <th>unique</th>\n",
       "      <td>200</td>\n",
       "      <td>200</td>\n",
       "      <td>4</td>\n",
       "      <td>179</td>\n",
       "    </tr>\n",
       "    <tr>\n",
       "      <th>top</th>\n",
       "      <td>C0001</td>\n",
       "      <td>Lawrence Carroll</td>\n",
       "      <td>South America</td>\n",
       "      <td>2024-11-11</td>\n",
       "    </tr>\n",
       "    <tr>\n",
       "      <th>freq</th>\n",
       "      <td>1</td>\n",
       "      <td>1</td>\n",
       "      <td>59</td>\n",
       "      <td>3</td>\n",
       "    </tr>\n",
       "  </tbody>\n",
       "</table>\n",
       "</div>"
      ],
      "text/plain": [
       "       CustomerID      CustomerName         Region  SignupDate\n",
       "count         200               200            200         200\n",
       "unique        200               200              4         179\n",
       "top         C0001  Lawrence Carroll  South America  2024-11-11\n",
       "freq            1                 1             59           3"
      ]
     },
     "execution_count": 14,
     "metadata": {},
     "output_type": "execute_result"
    }
   ],
   "source": [
    "df_Customers.describe()"
   ]
  },
  {
   "cell_type": "code",
   "execution_count": 15,
   "id": "a2f53c2d",
   "metadata": {},
   "outputs": [
    {
     "data": {
      "text/plain": [
       "array([59, 50, 46, 45], dtype=int64)"
      ]
     },
     "execution_count": 15,
     "metadata": {},
     "output_type": "execute_result"
    }
   ],
   "source": [
    "Region=df_Customers['Region'].value_counts()\n",
    "Region_Values=Region.values\n",
    "Region_Values\n"
   ]
  },
  {
   "cell_type": "code",
   "execution_count": 16,
   "id": "b40b382b",
   "metadata": {},
   "outputs": [
    {
     "data": {
      "image/png": "[encoded data removed]",
      "text/plain": [
       "<Figure size 800x600 with 1 Axes>"
      ]
     },
     "metadata": {},
     "output_type": "display_data"
    }
   ],
   "source": [
    "import matplotlib.pyplot as plt\n",
    "# Create a pie chart\n",
    "plt.figure(figsize=(8, 6))\n",
    "plt.pie(Region_Values, labels=Region.index, autopct='%1.1f%%', startangle=140)\n",
    "plt.title('Customer Distribution by Region')\n",
    "plt.show()\n"
   ]
  },
  {
   "cell_type": "markdown",
   "id": "2dc60d32",
   "metadata": {},
   "source": [
    "The **South America** region accounts for the largest share of customers, contributing 29.5% of the total customer base across all regions."
   ]
  },
  {
   "cell_type": "markdown",
   "id": "54f00d19",
   "metadata": {},
   "source": [
    "# Merging all dataset"
   ]
  },
  {
   "cell_type": "code",
   "execution_count": 17,
   "id": "fbb7bfea",
   "metadata": {},
   "outputs": [
    {
     "data": {
      "text/plain": [
       "Index(['CustomerID', 'CustomerName', 'Region', 'SignupDate'], dtype='object')"
      ]
     },
     "execution_count": 17,
     "metadata": {},
     "output_type": "execute_result"
    }
   ],
   "source": [
    "df_Customers.columns"
   ]
  },
  {
   "cell_type": "code",
   "execution_count": 18,
   "id": "d07108c1",
   "metadata": {},
   "outputs": [
    {
     "data": {
      "text/plain": [
       "Index(['TransactionID', 'CustomerID', 'ProductID', 'TransactionDate',\n",
       "       'Quantity', 'TotalValue', 'Price'],\n",
       "      dtype='object')"
      ]
     },
     "execution_count": 18,
     "metadata": {},
     "output_type": "execute_result"
    }
   ],
   "source": [
    "df_Transactions.columns"
   ]
  },
  {
   "cell_type": "code",
   "execution_count": 19,
   "id": "09c337ca",
   "metadata": {},
   "outputs": [
    {
     "data": {
      "text/plain": [
       "Index(['ProductID', 'ProductName', 'Category', 'Price'], dtype='object')"
      ]
     },
     "execution_count": 19,
     "metadata": {},
     "output_type": "execute_result"
    }
   ],
   "source": [
    "df_Products.columns"
   ]
  },
  {
   "cell_type": "code",
   "execution_count": 20,
   "id": "2cf84bcb",
   "metadata": {},
   "outputs": [],
   "source": [
    "df_Customers_Transactions=pd.merge(df_Customers,df_Transactions,on='CustomerID')"
   ]
  },
  {
   "cell_type": "code",
   "execution_count": 21,
   "id": "9f4b048d",
   "metadata": {},
   "outputs": [
    {
     "data": {
      "text/html": [
       "<div>\n",
       "<style scoped>\n",
       "    .dataframe tbody tr th:only-of-type {\n",
       "        vertical-align: middle;\n",
       "    }\n",
       "\n",
       "    .dataframe tbody tr th {\n",
       "        vertical-align: top;\n",
       "    }\n",
       "\n",
       "    .dataframe thead th {\n",
       "        text-align: right;\n",
       "    }\n",
       "</style>\n",
       "<table border=\"1\" class=\"dataframe\">\n",
       "  <thead>\n",
       "    <tr style=\"text-align: right;\">\n",
       "      <th></th>\n",
       "      <th>CustomerID</th>\n",
       "      <th>CustomerName</th>\n",
       "      <th>Region</th>\n",
       "      <th>SignupDate</th>\n",
       "      <th>TransactionID</th>\n",
       "      <th>ProductID</th>\n",
       "      <th>TransactionDate</th>\n",
       "      <th>Quantity</th>\n",
       "      <th>TotalValue</th>\n",
       "      <th>Price</th>\n",
       "    </tr>\n",
       "  </thead>\n",
       "  <tbody>\n",
       "    <tr>\n",
       "      <th>0</th>\n",
       "      <td>C0001</td>\n",
       "      <td>Lawrence Carroll</td>\n",
       "      <td>South America</td>\n",
       "      <td>2022-07-10</td>\n",
       "      <td>T00015</td>\n",
       "      <td>P054</td>\n",
       "      <td>2024-01-19 03:12:55</td>\n",
       "      <td>2</td>\n",
       "      <td>114.60</td>\n",
       "      <td>57.30</td>\n",
       "    </tr>\n",
       "    <tr>\n",
       "      <th>1</th>\n",
       "      <td>C0001</td>\n",
       "      <td>Lawrence Carroll</td>\n",
       "      <td>South America</td>\n",
       "      <td>2022-07-10</td>\n",
       "      <td>T00932</td>\n",
       "      <td>P022</td>\n",
       "      <td>2024-09-17 09:01:18</td>\n",
       "      <td>3</td>\n",
       "      <td>412.62</td>\n",
       "      <td>137.54</td>\n",
       "    </tr>\n",
       "    <tr>\n",
       "      <th>2</th>\n",
       "      <td>C0001</td>\n",
       "      <td>Lawrence Carroll</td>\n",
       "      <td>South America</td>\n",
       "      <td>2022-07-10</td>\n",
       "      <td>T00085</td>\n",
       "      <td>P096</td>\n",
       "      <td>2024-04-08 00:01:00</td>\n",
       "      <td>2</td>\n",
       "      <td>614.94</td>\n",
       "      <td>307.47</td>\n",
       "    </tr>\n",
       "    <tr>\n",
       "      <th>3</th>\n",
       "      <td>C0001</td>\n",
       "      <td>Lawrence Carroll</td>\n",
       "      <td>South America</td>\n",
       "      <td>2022-07-10</td>\n",
       "      <td>T00445</td>\n",
       "      <td>P083</td>\n",
       "      <td>2024-05-07 03:11:44</td>\n",
       "      <td>2</td>\n",
       "      <td>911.44</td>\n",
       "      <td>455.72</td>\n",
       "    </tr>\n",
       "    <tr>\n",
       "      <th>4</th>\n",
       "      <td>C0001</td>\n",
       "      <td>Lawrence Carroll</td>\n",
       "      <td>South America</td>\n",
       "      <td>2022-07-10</td>\n",
       "      <td>T00436</td>\n",
       "      <td>P029</td>\n",
       "      <td>2024-11-02 17:04:16</td>\n",
       "      <td>3</td>\n",
       "      <td>1300.92</td>\n",
       "      <td>433.64</td>\n",
       "    </tr>\n",
       "    <tr>\n",
       "      <th>...</th>\n",
       "      <td>...</td>\n",
       "      <td>...</td>\n",
       "      <td>...</td>\n",
       "      <td>...</td>\n",
       "      <td>...</td>\n",
       "      <td>...</td>\n",
       "      <td>...</td>\n",
       "      <td>...</td>\n",
       "      <td>...</td>\n",
       "      <td>...</td>\n",
       "    </tr>\n",
       "    <tr>\n",
       "      <th>995</th>\n",
       "      <td>C0200</td>\n",
       "      <td>Kelly Cross</td>\n",
       "      <td>Asia</td>\n",
       "      <td>2023-06-11</td>\n",
       "      <td>T00518</td>\n",
       "      <td>P034</td>\n",
       "      <td>2024-12-11 03:05:50</td>\n",
       "      <td>4</td>\n",
       "      <td>868.20</td>\n",
       "      <td>217.05</td>\n",
       "    </tr>\n",
       "    <tr>\n",
       "      <th>996</th>\n",
       "      <td>C0200</td>\n",
       "      <td>Kelly Cross</td>\n",
       "      <td>Asia</td>\n",
       "      <td>2023-06-11</td>\n",
       "      <td>T00091</td>\n",
       "      <td>P057</td>\n",
       "      <td>2024-04-27 19:06:20</td>\n",
       "      <td>1</td>\n",
       "      <td>239.70</td>\n",
       "      <td>239.70</td>\n",
       "    </tr>\n",
       "    <tr>\n",
       "      <th>997</th>\n",
       "      <td>C0200</td>\n",
       "      <td>Kelly Cross</td>\n",
       "      <td>Asia</td>\n",
       "      <td>2023-06-11</td>\n",
       "      <td>T00731</td>\n",
       "      <td>P061</td>\n",
       "      <td>2024-07-15 20:36:28</td>\n",
       "      <td>4</td>\n",
       "      <td>627.84</td>\n",
       "      <td>156.96</td>\n",
       "    </tr>\n",
       "    <tr>\n",
       "      <th>998</th>\n",
       "      <td>C0200</td>\n",
       "      <td>Kelly Cross</td>\n",
       "      <td>Asia</td>\n",
       "      <td>2023-06-11</td>\n",
       "      <td>T00771</td>\n",
       "      <td>P048</td>\n",
       "      <td>2024-09-10 09:50:48</td>\n",
       "      <td>4</td>\n",
       "      <td>1665.60</td>\n",
       "      <td>416.40</td>\n",
       "    </tr>\n",
       "    <tr>\n",
       "      <th>999</th>\n",
       "      <td>C0200</td>\n",
       "      <td>Kelly Cross</td>\n",
       "      <td>Asia</td>\n",
       "      <td>2023-06-11</td>\n",
       "      <td>T00889</td>\n",
       "      <td>P064</td>\n",
       "      <td>2024-10-03 04:33:16</td>\n",
       "      <td>3</td>\n",
       "      <td>1357.26</td>\n",
       "      <td>452.42</td>\n",
       "    </tr>\n",
       "  </tbody>\n",
       "</table>\n",
       "<p>1000 rows × 10 columns</p>\n",
       "</div>"
      ],
      "text/plain": [
       "    CustomerID      CustomerName         Region  SignupDate TransactionID  \\\n",
       "0        C0001  Lawrence Carroll  South America  2022-07-10        T00015   \n",
       "1        C0001  Lawrence Carroll  South America  2022-07-10        T00932   \n",
       "2        C0001  Lawrence Carroll  South America  2022-07-10        T00085   \n",
       "3        C0001  Lawrence Carroll  South America  2022-07-10        T00445   \n",
       "4        C0001  Lawrence Carroll  South America  2022-07-10        T00436   \n",
       "..         ...               ...            ...         ...           ...   \n",
       "995      C0200       Kelly Cross           Asia  2023-06-11        T00518   \n",
       "996      C0200       Kelly Cross           Asia  2023-06-11        T00091   \n",
       "997      C0200       Kelly Cross           Asia  2023-06-11        T00731   \n",
       "998      C0200       Kelly Cross           Asia  2023-06-11        T00771   \n",
       "999      C0200       Kelly Cross           Asia  2023-06-11        T00889   \n",
       "\n",
       "    ProductID      TransactionDate  Quantity  TotalValue   Price  \n",
       "0        P054  2024-01-19 03:12:55         2      114.60   57.30  \n",
       "1        P022  2024-09-17 09:01:18         3      412.62  137.54  \n",
       "2        P096  2024-04-08 00:01:00         2      614.94  307.47  \n",
       "3        P083  2024-05-07 03:11:44         2      911.44  455.72  \n",
       "4        P029  2024-11-02 17:04:16         3     1300.92  433.64  \n",
       "..        ...                  ...       ...         ...     ...  \n",
       "995      P034  2024-12-11 03:05:50         4      868.20  217.05  \n",
       "996      P057  2024-04-27 19:06:20         1      239.70  239.70  \n",
       "997      P061  2024-07-15 20:36:28         4      627.84  156.96  \n",
       "998      P048  2024-09-10 09:50:48         4     1665.60  416.40  \n",
       "999      P064  2024-10-03 04:33:16         3     1357.26  452.42  \n",
       "\n",
       "[1000 rows x 10 columns]"
      ]
     },
     "execution_count": 21,
     "metadata": {},
     "output_type": "execute_result"
    }
   ],
   "source": [
    "df_Customers_Transactions"
   ]
  },
  {
   "cell_type": "code",
   "execution_count": 22,
   "id": "24d5d689",
   "metadata": {},
   "outputs": [
    {
     "data": {
      "text/html": [
       "<div>\n",
       "<style scoped>\n",
       "    .dataframe tbody tr th:only-of-type {\n",
       "        vertical-align: middle;\n",
       "    }\n",
       "\n",
       "    .dataframe tbody tr th {\n",
       "        vertical-align: top;\n",
       "    }\n",
       "\n",
       "    .dataframe thead th {\n",
       "        text-align: right;\n",
       "    }\n",
       "</style>\n",
       "<table border=\"1\" class=\"dataframe\">\n",
       "  <thead>\n",
       "    <tr style=\"text-align: right;\">\n",
       "      <th></th>\n",
       "      <th>CustomerID</th>\n",
       "      <th>CustomerName</th>\n",
       "      <th>Region</th>\n",
       "      <th>SignupDate</th>\n",
       "      <th>TransactionID</th>\n",
       "      <th>ProductID</th>\n",
       "      <th>TransactionDate</th>\n",
       "      <th>Quantity</th>\n",
       "      <th>TotalValue</th>\n",
       "      <th>Price_x</th>\n",
       "      <th>ProductName</th>\n",
       "      <th>Category</th>\n",
       "      <th>Price_y</th>\n",
       "    </tr>\n",
       "  </thead>\n",
       "  <tbody>\n",
       "    <tr>\n",
       "      <th>0</th>\n",
       "      <td>C0001</td>\n",
       "      <td>Lawrence Carroll</td>\n",
       "      <td>South America</td>\n",
       "      <td>2022-07-10</td>\n",
       "      <td>T00015</td>\n",
       "      <td>P054</td>\n",
       "      <td>2024-01-19 03:12:55</td>\n",
       "      <td>2</td>\n",
       "      <td>114.60</td>\n",
       "      <td>57.30</td>\n",
       "      <td>SoundWave Cookbook</td>\n",
       "      <td>Books</td>\n",
       "      <td>57.30</td>\n",
       "    </tr>\n",
       "    <tr>\n",
       "      <th>1</th>\n",
       "      <td>C0001</td>\n",
       "      <td>Lawrence Carroll</td>\n",
       "      <td>South America</td>\n",
       "      <td>2022-07-10</td>\n",
       "      <td>T00932</td>\n",
       "      <td>P022</td>\n",
       "      <td>2024-09-17 09:01:18</td>\n",
       "      <td>3</td>\n",
       "      <td>412.62</td>\n",
       "      <td>137.54</td>\n",
       "      <td>HomeSense Wall Art</td>\n",
       "      <td>Home Decor</td>\n",
       "      <td>137.54</td>\n",
       "    </tr>\n",
       "    <tr>\n",
       "      <th>2</th>\n",
       "      <td>C0001</td>\n",
       "      <td>Lawrence Carroll</td>\n",
       "      <td>South America</td>\n",
       "      <td>2022-07-10</td>\n",
       "      <td>T00085</td>\n",
       "      <td>P096</td>\n",
       "      <td>2024-04-08 00:01:00</td>\n",
       "      <td>2</td>\n",
       "      <td>614.94</td>\n",
       "      <td>307.47</td>\n",
       "      <td>SoundWave Headphones</td>\n",
       "      <td>Electronics</td>\n",
       "      <td>307.47</td>\n",
       "    </tr>\n",
       "    <tr>\n",
       "      <th>3</th>\n",
       "      <td>C0001</td>\n",
       "      <td>Lawrence Carroll</td>\n",
       "      <td>South America</td>\n",
       "      <td>2022-07-10</td>\n",
       "      <td>T00445</td>\n",
       "      <td>P083</td>\n",
       "      <td>2024-05-07 03:11:44</td>\n",
       "      <td>2</td>\n",
       "      <td>911.44</td>\n",
       "      <td>455.72</td>\n",
       "      <td>ActiveWear Smartwatch</td>\n",
       "      <td>Electronics</td>\n",
       "      <td>455.72</td>\n",
       "    </tr>\n",
       "    <tr>\n",
       "      <th>4</th>\n",
       "      <td>C0001</td>\n",
       "      <td>Lawrence Carroll</td>\n",
       "      <td>South America</td>\n",
       "      <td>2022-07-10</td>\n",
       "      <td>T00436</td>\n",
       "      <td>P029</td>\n",
       "      <td>2024-11-02 17:04:16</td>\n",
       "      <td>3</td>\n",
       "      <td>1300.92</td>\n",
       "      <td>433.64</td>\n",
       "      <td>TechPro Headphones</td>\n",
       "      <td>Electronics</td>\n",
       "      <td>433.64</td>\n",
       "    </tr>\n",
       "    <tr>\n",
       "      <th>...</th>\n",
       "      <td>...</td>\n",
       "      <td>...</td>\n",
       "      <td>...</td>\n",
       "      <td>...</td>\n",
       "      <td>...</td>\n",
       "      <td>...</td>\n",
       "      <td>...</td>\n",
       "      <td>...</td>\n",
       "      <td>...</td>\n",
       "      <td>...</td>\n",
       "      <td>...</td>\n",
       "      <td>...</td>\n",
       "      <td>...</td>\n",
       "    </tr>\n",
       "    <tr>\n",
       "      <th>995</th>\n",
       "      <td>C0200</td>\n",
       "      <td>Kelly Cross</td>\n",
       "      <td>Asia</td>\n",
       "      <td>2023-06-11</td>\n",
       "      <td>T00518</td>\n",
       "      <td>P034</td>\n",
       "      <td>2024-12-11 03:05:50</td>\n",
       "      <td>4</td>\n",
       "      <td>868.20</td>\n",
       "      <td>217.05</td>\n",
       "      <td>HomeSense T-Shirt</td>\n",
       "      <td>Clothing</td>\n",
       "      <td>217.05</td>\n",
       "    </tr>\n",
       "    <tr>\n",
       "      <th>996</th>\n",
       "      <td>C0200</td>\n",
       "      <td>Kelly Cross</td>\n",
       "      <td>Asia</td>\n",
       "      <td>2023-06-11</td>\n",
       "      <td>T00091</td>\n",
       "      <td>P057</td>\n",
       "      <td>2024-04-27 19:06:20</td>\n",
       "      <td>1</td>\n",
       "      <td>239.70</td>\n",
       "      <td>239.70</td>\n",
       "      <td>ActiveWear Smartphone</td>\n",
       "      <td>Electronics</td>\n",
       "      <td>239.70</td>\n",
       "    </tr>\n",
       "    <tr>\n",
       "      <th>997</th>\n",
       "      <td>C0200</td>\n",
       "      <td>Kelly Cross</td>\n",
       "      <td>Asia</td>\n",
       "      <td>2023-06-11</td>\n",
       "      <td>T00731</td>\n",
       "      <td>P061</td>\n",
       "      <td>2024-07-15 20:36:28</td>\n",
       "      <td>4</td>\n",
       "      <td>627.84</td>\n",
       "      <td>156.96</td>\n",
       "      <td>HomeSense Desk Lamp</td>\n",
       "      <td>Home Decor</td>\n",
       "      <td>156.96</td>\n",
       "    </tr>\n",
       "    <tr>\n",
       "      <th>998</th>\n",
       "      <td>C0200</td>\n",
       "      <td>Kelly Cross</td>\n",
       "      <td>Asia</td>\n",
       "      <td>2023-06-11</td>\n",
       "      <td>T00771</td>\n",
       "      <td>P048</td>\n",
       "      <td>2024-09-10 09:50:48</td>\n",
       "      <td>4</td>\n",
       "      <td>1665.60</td>\n",
       "      <td>416.40</td>\n",
       "      <td>TechPro Cookbook</td>\n",
       "      <td>Books</td>\n",
       "      <td>416.40</td>\n",
       "    </tr>\n",
       "    <tr>\n",
       "      <th>999</th>\n",
       "      <td>C0200</td>\n",
       "      <td>Kelly Cross</td>\n",
       "      <td>Asia</td>\n",
       "      <td>2023-06-11</td>\n",
       "      <td>T00889</td>\n",
       "      <td>P064</td>\n",
       "      <td>2024-10-03 04:33:16</td>\n",
       "      <td>3</td>\n",
       "      <td>1357.26</td>\n",
       "      <td>452.42</td>\n",
       "      <td>HomeSense Running Shoes</td>\n",
       "      <td>Clothing</td>\n",
       "      <td>452.42</td>\n",
       "    </tr>\n",
       "  </tbody>\n",
       "</table>\n",
       "<p>1000 rows × 13 columns</p>\n",
       "</div>"
      ],
      "text/plain": [
       "    CustomerID      CustomerName         Region  SignupDate TransactionID  \\\n",
       "0        C0001  Lawrence Carroll  South America  2022-07-10        T00015   \n",
       "1        C0001  Lawrence Carroll  South America  2022-07-10        T00932   \n",
       "2        C0001  Lawrence Carroll  South America  2022-07-10        T00085   \n",
       "3        C0001  Lawrence Carroll  South America  2022-07-10        T00445   \n",
       "4        C0001  Lawrence Carroll  South America  2022-07-10        T00436   \n",
       "..         ...               ...            ...         ...           ...   \n",
       "995      C0200       Kelly Cross           Asia  2023-06-11        T00518   \n",
       "996      C0200       Kelly Cross           Asia  2023-06-11        T00091   \n",
       "997      C0200       Kelly Cross           Asia  2023-06-11        T00731   \n",
       "998      C0200       Kelly Cross           Asia  2023-06-11        T00771   \n",
       "999      C0200       Kelly Cross           Asia  2023-06-11        T00889   \n",
       "\n",
       "    ProductID      TransactionDate  Quantity  TotalValue  Price_x  \\\n",
       "0        P054  2024-01-19 03:12:55         2      114.60    57.30   \n",
       "1        P022  2024-09-17 09:01:18         3      412.62   137.54   \n",
       "2        P096  2024-04-08 00:01:00         2      614.94   307.47   \n",
       "3        P083  2024-05-07 03:11:44         2      911.44   455.72   \n",
       "4        P029  2024-11-02 17:04:16         3     1300.92   433.64   \n",
       "..        ...                  ...       ...         ...      ...   \n",
       "995      P034  2024-12-11 03:05:50         4      868.20   217.05   \n",
       "996      P057  2024-04-27 19:06:20         1      239.70   239.70   \n",
       "997      P061  2024-07-15 20:36:28         4      627.84   156.96   \n",
       "998      P048  2024-09-10 09:50:48         4     1665.60   416.40   \n",
       "999      P064  2024-10-03 04:33:16         3     1357.26   452.42   \n",
       "\n",
       "                 ProductName     Category  Price_y  \n",
       "0         SoundWave Cookbook        Books    57.30  \n",
       "1         HomeSense Wall Art   Home Decor   137.54  \n",
       "2       SoundWave Headphones  Electronics   307.47  \n",
       "3      ActiveWear Smartwatch  Electronics   455.72  \n",
       "4         TechPro Headphones  Electronics   433.64  \n",
       "..                       ...          ...      ...  \n",
       "995        HomeSense T-Shirt     Clothing   217.05  \n",
       "996    ActiveWear Smartphone  Electronics   239.70  \n",
       "997      HomeSense Desk Lamp   Home Decor   156.96  \n",
       "998         TechPro Cookbook        Books   416.40  \n",
       "999  HomeSense Running Shoes     Clothing   452.42  \n",
       "\n",
       "[1000 rows x 13 columns]"
      ]
     },
     "execution_count": 22,
     "metadata": {},
     "output_type": "execute_result"
    }
   ],
   "source": [
    "df_Customers_Transactions_Products=pd.merge(df_Customers_Transactions,df_Products,on='ProductID')\n",
    "df=df_Customers_Transactions_Products\n",
    "df"
   ]
  },
  {
   "cell_type": "code",
   "execution_count": 23,
   "id": "c5a21997",
   "metadata": {},
   "outputs": [
    {
     "data": {
      "text/plain": [
       "Index(['CustomerID', 'CustomerName', 'Region', 'SignupDate', 'TransactionID',\n",
       "       'ProductID', 'TransactionDate', 'Quantity', 'TotalValue', 'Price_x',\n",
       "       'ProductName', 'Category', 'Price_y'],\n",
       "      dtype='object')"
      ]
     },
     "execution_count": 23,
     "metadata": {},
     "output_type": "execute_result"
    }
   ],
   "source": [
    "df.columns"
   ]
  },
  {
   "cell_type": "markdown",
   "id": "40478c10",
   "metadata": {},
   "source": [
    "# Dropping some unrelated columns"
   ]
  },
  {
   "cell_type": "code",
   "execution_count": 24,
   "id": "d40bc2a4",
   "metadata": {},
   "outputs": [
    {
     "data": {
      "text/html": [
       "<div>\n",
       "<style scoped>\n",
       "    .dataframe tbody tr th:only-of-type {\n",
       "        vertical-align: middle;\n",
       "    }\n",
       "\n",
       "    .dataframe tbody tr th {\n",
       "        vertical-align: top;\n",
       "    }\n",
       "\n",
       "    .dataframe thead th {\n",
       "        text-align: right;\n",
       "    }\n",
       "</style>\n",
       "<table border=\"1\" class=\"dataframe\">\n",
       "  <thead>\n",
       "    <tr style=\"text-align: right;\">\n",
       "      <th></th>\n",
       "      <th>Region</th>\n",
       "      <th>SignupDate</th>\n",
       "      <th>TransactionDate</th>\n",
       "      <th>Quantity</th>\n",
       "      <th>TotalValue</th>\n",
       "      <th>ProductName</th>\n",
       "      <th>Category</th>\n",
       "      <th>Price_y</th>\n",
       "    </tr>\n",
       "  </thead>\n",
       "  <tbody>\n",
       "    <tr>\n",
       "      <th>0</th>\n",
       "      <td>South America</td>\n",
       "      <td>2022-07-10</td>\n",
       "      <td>2024-01-19 03:12:55</td>\n",
       "      <td>2</td>\n",
       "      <td>114.60</td>\n",
       "      <td>SoundWave Cookbook</td>\n",
       "      <td>Books</td>\n",
       "      <td>57.30</td>\n",
       "    </tr>\n",
       "    <tr>\n",
       "      <th>1</th>\n",
       "      <td>South America</td>\n",
       "      <td>2022-07-10</td>\n",
       "      <td>2024-09-17 09:01:18</td>\n",
       "      <td>3</td>\n",
       "      <td>412.62</td>\n",
       "      <td>HomeSense Wall Art</td>\n",
       "      <td>Home Decor</td>\n",
       "      <td>137.54</td>\n",
       "    </tr>\n",
       "    <tr>\n",
       "      <th>2</th>\n",
       "      <td>South America</td>\n",
       "      <td>2022-07-10</td>\n",
       "      <td>2024-04-08 00:01:00</td>\n",
       "      <td>2</td>\n",
       "      <td>614.94</td>\n",
       "      <td>SoundWave Headphones</td>\n",
       "      <td>Electronics</td>\n",
       "      <td>307.47</td>\n",
       "    </tr>\n",
       "    <tr>\n",
       "      <th>3</th>\n",
       "      <td>South America</td>\n",
       "      <td>2022-07-10</td>\n",
       "      <td>2024-05-07 03:11:44</td>\n",
       "      <td>2</td>\n",
       "      <td>911.44</td>\n",
       "      <td>ActiveWear Smartwatch</td>\n",
       "      <td>Electronics</td>\n",
       "      <td>455.72</td>\n",
       "    </tr>\n",
       "    <tr>\n",
       "      <th>4</th>\n",
       "      <td>South America</td>\n",
       "      <td>2022-07-10</td>\n",
       "      <td>2024-11-02 17:04:16</td>\n",
       "      <td>3</td>\n",
       "      <td>1300.92</td>\n",
       "      <td>TechPro Headphones</td>\n",
       "      <td>Electronics</td>\n",
       "      <td>433.64</td>\n",
       "    </tr>\n",
       "  </tbody>\n",
       "</table>\n",
       "</div>"
      ],
      "text/plain": [
       "          Region  SignupDate      TransactionDate  Quantity  TotalValue  \\\n",
       "0  South America  2022-07-10  2024-01-19 03:12:55         2      114.60   \n",
       "1  South America  2022-07-10  2024-09-17 09:01:18         3      412.62   \n",
       "2  South America  2022-07-10  2024-04-08 00:01:00         2      614.94   \n",
       "3  South America  2022-07-10  2024-05-07 03:11:44         2      911.44   \n",
       "4  South America  2022-07-10  2024-11-02 17:04:16         3     1300.92   \n",
       "\n",
       "             ProductName     Category  Price_y  \n",
       "0     SoundWave Cookbook        Books    57.30  \n",
       "1     HomeSense Wall Art   Home Decor   137.54  \n",
       "2   SoundWave Headphones  Electronics   307.47  \n",
       "3  ActiveWear Smartwatch  Electronics   455.72  \n",
       "4     TechPro Headphones  Electronics   433.64  "
      ]
     },
     "execution_count": 24,
     "metadata": {},
     "output_type": "execute_result"
    }
   ],
   "source": [
    "new_df = df.drop(['CustomerID', 'CustomerName', 'TransactionID', 'ProductID','Price_x'], axis=1)\n",
    "new_df.head(5)"
   ]
  },
  {
   "cell_type": "code",
   "execution_count": 25,
   "id": "b4d35a69",
   "metadata": {},
   "outputs": [
    {
     "data": {
      "text/html": [
       "<div>\n",
       "<style scoped>\n",
       "    .dataframe tbody tr th:only-of-type {\n",
       "        vertical-align: middle;\n",
       "    }\n",
       "\n",
       "    .dataframe tbody tr th {\n",
       "        vertical-align: top;\n",
       "    }\n",
       "\n",
       "    .dataframe thead th {\n",
       "        text-align: right;\n",
       "    }\n",
       "</style>\n",
       "<table border=\"1\" class=\"dataframe\">\n",
       "  <thead>\n",
       "    <tr style=\"text-align: right;\">\n",
       "      <th></th>\n",
       "      <th>Region</th>\n",
       "      <th>SignupDate</th>\n",
       "      <th>TransactionDate</th>\n",
       "      <th>Quantity</th>\n",
       "      <th>TotalValue</th>\n",
       "      <th>ProductName</th>\n",
       "      <th>Category</th>\n",
       "      <th>Price</th>\n",
       "    </tr>\n",
       "  </thead>\n",
       "  <tbody>\n",
       "    <tr>\n",
       "      <th>0</th>\n",
       "      <td>South America</td>\n",
       "      <td>2022-07-10</td>\n",
       "      <td>2024-01-19 03:12:55</td>\n",
       "      <td>2</td>\n",
       "      <td>114.60</td>\n",
       "      <td>SoundWave Cookbook</td>\n",
       "      <td>Books</td>\n",
       "      <td>57.30</td>\n",
       "    </tr>\n",
       "    <tr>\n",
       "      <th>1</th>\n",
       "      <td>South America</td>\n",
       "      <td>2022-07-10</td>\n",
       "      <td>2024-09-17 09:01:18</td>\n",
       "      <td>3</td>\n",
       "      <td>412.62</td>\n",
       "      <td>HomeSense Wall Art</td>\n",
       "      <td>Home Decor</td>\n",
       "      <td>137.54</td>\n",
       "    </tr>\n",
       "    <tr>\n",
       "      <th>2</th>\n",
       "      <td>South America</td>\n",
       "      <td>2022-07-10</td>\n",
       "      <td>2024-04-08 00:01:00</td>\n",
       "      <td>2</td>\n",
       "      <td>614.94</td>\n",
       "      <td>SoundWave Headphones</td>\n",
       "      <td>Electronics</td>\n",
       "      <td>307.47</td>\n",
       "    </tr>\n",
       "    <tr>\n",
       "      <th>3</th>\n",
       "      <td>South America</td>\n",
       "      <td>2022-07-10</td>\n",
       "      <td>2024-05-07 03:11:44</td>\n",
       "      <td>2</td>\n",
       "      <td>911.44</td>\n",
       "      <td>ActiveWear Smartwatch</td>\n",
       "      <td>Electronics</td>\n",
       "      <td>455.72</td>\n",
       "    </tr>\n",
       "    <tr>\n",
       "      <th>4</th>\n",
       "      <td>South America</td>\n",
       "      <td>2022-07-10</td>\n",
       "      <td>2024-11-02 17:04:16</td>\n",
       "      <td>3</td>\n",
       "      <td>1300.92</td>\n",
       "      <td>TechPro Headphones</td>\n",
       "      <td>Electronics</td>\n",
       "      <td>433.64</td>\n",
       "    </tr>\n",
       "    <tr>\n",
       "      <th>...</th>\n",
       "      <td>...</td>\n",
       "      <td>...</td>\n",
       "      <td>...</td>\n",
       "      <td>...</td>\n",
       "      <td>...</td>\n",
       "      <td>...</td>\n",
       "      <td>...</td>\n",
       "      <td>...</td>\n",
       "    </tr>\n",
       "    <tr>\n",
       "      <th>995</th>\n",
       "      <td>Asia</td>\n",
       "      <td>2023-06-11</td>\n",
       "      <td>2024-12-11 03:05:50</td>\n",
       "      <td>4</td>\n",
       "      <td>868.20</td>\n",
       "      <td>HomeSense T-Shirt</td>\n",
       "      <td>Clothing</td>\n",
       "      <td>217.05</td>\n",
       "    </tr>\n",
       "    <tr>\n",
       "      <th>996</th>\n",
       "      <td>Asia</td>\n",
       "      <td>2023-06-11</td>\n",
       "      <td>2024-04-27 19:06:20</td>\n",
       "      <td>1</td>\n",
       "      <td>239.70</td>\n",
       "      <td>ActiveWear Smartphone</td>\n",
       "      <td>Electronics</td>\n",
       "      <td>239.70</td>\n",
       "    </tr>\n",
       "    <tr>\n",
       "      <th>997</th>\n",
       "      <td>Asia</td>\n",
       "      <td>2023-06-11</td>\n",
       "      <td>2024-07-15 20:36:28</td>\n",
       "      <td>4</td>\n",
       "      <td>627.84</td>\n",
       "      <td>HomeSense Desk Lamp</td>\n",
       "      <td>Home Decor</td>\n",
       "      <td>156.96</td>\n",
       "    </tr>\n",
       "    <tr>\n",
       "      <th>998</th>\n",
       "      <td>Asia</td>\n",
       "      <td>2023-06-11</td>\n",
       "      <td>2024-09-10 09:50:48</td>\n",
       "      <td>4</td>\n",
       "      <td>1665.60</td>\n",
       "      <td>TechPro Cookbook</td>\n",
       "      <td>Books</td>\n",
       "      <td>416.40</td>\n",
       "    </tr>\n",
       "    <tr>\n",
       "      <th>999</th>\n",
       "      <td>Asia</td>\n",
       "      <td>2023-06-11</td>\n",
       "      <td>2024-10-03 04:33:16</td>\n",
       "      <td>3</td>\n",
       "      <td>1357.26</td>\n",
       "      <td>HomeSense Running Shoes</td>\n",
       "      <td>Clothing</td>\n",
       "      <td>452.42</td>\n",
       "    </tr>\n",
       "  </tbody>\n",
       "</table>\n",
       "<p>1000 rows × 8 columns</p>\n",
       "</div>"
      ],
      "text/plain": [
       "            Region  SignupDate      TransactionDate  Quantity  TotalValue  \\\n",
       "0    South America  2022-07-10  2024-01-19 03:12:55         2      114.60   \n",
       "1    South America  2022-07-10  2024-09-17 09:01:18         3      412.62   \n",
       "2    South America  2022-07-10  2024-04-08 00:01:00         2      614.94   \n",
       "3    South America  2022-07-10  2024-05-07 03:11:44         2      911.44   \n",
       "4    South America  2022-07-10  2024-11-02 17:04:16         3     1300.92   \n",
       "..             ...         ...                  ...       ...         ...   \n",
       "995           Asia  2023-06-11  2024-12-11 03:05:50         4      868.20   \n",
       "996           Asia  2023-06-11  2024-04-27 19:06:20         1      239.70   \n",
       "997           Asia  2023-06-11  2024-07-15 20:36:28         4      627.84   \n",
       "998           Asia  2023-06-11  2024-09-10 09:50:48         4     1665.60   \n",
       "999           Asia  2023-06-11  2024-10-03 04:33:16         3     1357.26   \n",
       "\n",
       "                 ProductName     Category   Price  \n",
       "0         SoundWave Cookbook        Books   57.30  \n",
       "1         HomeSense Wall Art   Home Decor  137.54  \n",
       "2       SoundWave Headphones  Electronics  307.47  \n",
       "3      ActiveWear Smartwatch  Electronics  455.72  \n",
       "4         TechPro Headphones  Electronics  433.64  \n",
       "..                       ...          ...     ...  \n",
       "995        HomeSense T-Shirt     Clothing  217.05  \n",
       "996    ActiveWear Smartphone  Electronics  239.70  \n",
       "997      HomeSense Desk Lamp   Home Decor  156.96  \n",
       "998         TechPro Cookbook        Books  416.40  \n",
       "999  HomeSense Running Shoes     Clothing  452.42  \n",
       "\n",
       "[1000 rows x 8 columns]"
      ]
     },
     "execution_count": 25,
     "metadata": {},
     "output_type": "execute_result"
    }
   ],
   "source": [
    "new_df=new_df.rename(columns={\"Price_y\":\"Price\"})\n",
    "new_df"
   ]
  },
  {
   "cell_type": "code",
   "execution_count": 26,
   "id": "41882291",
   "metadata": {},
   "outputs": [
    {
     "data": {
      "text/plain": [
       "Region\n",
       "Asia             152074.97\n",
       "Europe           166254.63\n",
       "North America    152313.40\n",
       "South America    219352.56\n",
       "Name: TotalValue, dtype: float64"
      ]
     },
     "execution_count": 26,
     "metadata": {},
     "output_type": "execute_result"
    }
   ],
   "source": [
    "new_df.groupby('Region')['TotalValue'].sum()"
   ]
  },
  {
   "cell_type": "markdown",
   "id": "2e0751bb",
   "metadata": {},
   "source": [
    "The **South America** Region generates the highest revenue, indicating a strong market presence and significant customer engagement."
   ]
  },
  {
   "cell_type": "code",
   "execution_count": 27,
   "id": "f287b00f",
   "metadata": {},
   "outputs": [
    {
     "data": {
      "text/plain": [
       "Category\n",
       "Books          681\n",
       "Clothing       590\n",
       "Electronics    627\n",
       "Home Decor     639\n",
       "Name: Quantity, dtype: int64"
      ]
     },
     "execution_count": 27,
     "metadata": {},
     "output_type": "execute_result"
    }
   ],
   "source": [
    "new_df.groupby('Category')['Quantity'].sum()"
   ]
  },
  {
   "cell_type": "markdown",
   "id": "42f26d4a",
   "metadata": {},
   "source": [
    "The **Books category** has the highest number of sales, making it the top-performing category. This suggests a strong demand for books, and it could be a key focus for further business strategies and marketing efforts."
   ]
  },
  {
   "cell_type": "markdown",
   "id": "2c2b4456",
   "metadata": {},
   "source": [
    "# Analysis on the basis of Region :"
   ]
  },
  {
   "cell_type": "code",
   "execution_count": 28,
   "id": "135239b1",
   "metadata": {},
   "outputs": [
    {
     "data": {
      "text/plain": [
       "Region\n",
       "South America    304\n",
       "North America    244\n",
       "Europe           234\n",
       "Asia             218\n",
       "Name: count, dtype: int64"
      ]
     },
     "execution_count": 28,
     "metadata": {},
     "output_type": "execute_result"
    }
   ],
   "source": [
    "new_df['Region'].value_counts()"
   ]
  },
  {
   "cell_type": "markdown",
   "id": "921c18bd",
   "metadata": {},
   "source": [
    "South America"
   ]
  },
  {
   "cell_type": "code",
   "execution_count": 29,
   "id": "ffc85b5f",
   "metadata": {},
   "outputs": [],
   "source": [
    "South_America=new_df[new_df['Region']=='South America']"
   ]
  },
  {
   "cell_type": "code",
   "execution_count": 30,
   "id": "3938ad51",
   "metadata": {},
   "outputs": [],
   "source": [
    "North_America=new_df[new_df['Region']=='North America']"
   ]
  },
  {
   "cell_type": "code",
   "execution_count": 31,
   "id": "cebc5d26",
   "metadata": {},
   "outputs": [],
   "source": [
    "Europe=new_df[new_df['Region']=='Europe']"
   ]
  },
  {
   "cell_type": "code",
   "execution_count": 32,
   "id": "f2057110",
   "metadata": {},
   "outputs": [],
   "source": [
    "Asia=new_df[new_df['Region']=='Asia']"
   ]
  },
  {
   "cell_type": "code",
   "execution_count": 33,
   "id": "51d37f8e",
   "metadata": {},
   "outputs": [
    {
     "data": {
      "text/html": [
       "<div>\n",
       "<style scoped>\n",
       "    .dataframe tbody tr th:only-of-type {\n",
       "        vertical-align: middle;\n",
       "    }\n",
       "\n",
       "    .dataframe tbody tr th {\n",
       "        vertical-align: top;\n",
       "    }\n",
       "\n",
       "    .dataframe thead th {\n",
       "        text-align: right;\n",
       "    }\n",
       "</style>\n",
       "<table border=\"1\" class=\"dataframe\">\n",
       "  <thead>\n",
       "    <tr style=\"text-align: right;\">\n",
       "      <th></th>\n",
       "      <th>Region</th>\n",
       "      <th>SignupDate</th>\n",
       "      <th>TransactionDate</th>\n",
       "      <th>Quantity</th>\n",
       "      <th>TotalValue</th>\n",
       "      <th>ProductName</th>\n",
       "      <th>Category</th>\n",
       "      <th>Price</th>\n",
       "    </tr>\n",
       "  </thead>\n",
       "  <tbody>\n",
       "    <tr>\n",
       "      <th>0</th>\n",
       "      <td>South America</td>\n",
       "      <td>2022-07-10</td>\n",
       "      <td>2024-01-19 03:12:55</td>\n",
       "      <td>2</td>\n",
       "      <td>114.60</td>\n",
       "      <td>SoundWave Cookbook</td>\n",
       "      <td>Books</td>\n",
       "      <td>57.30</td>\n",
       "    </tr>\n",
       "    <tr>\n",
       "      <th>1</th>\n",
       "      <td>South America</td>\n",
       "      <td>2022-07-10</td>\n",
       "      <td>2024-09-17 09:01:18</td>\n",
       "      <td>3</td>\n",
       "      <td>412.62</td>\n",
       "      <td>HomeSense Wall Art</td>\n",
       "      <td>Home Decor</td>\n",
       "      <td>137.54</td>\n",
       "    </tr>\n",
       "    <tr>\n",
       "      <th>2</th>\n",
       "      <td>South America</td>\n",
       "      <td>2022-07-10</td>\n",
       "      <td>2024-04-08 00:01:00</td>\n",
       "      <td>2</td>\n",
       "      <td>614.94</td>\n",
       "      <td>SoundWave Headphones</td>\n",
       "      <td>Electronics</td>\n",
       "      <td>307.47</td>\n",
       "    </tr>\n",
       "    <tr>\n",
       "      <th>3</th>\n",
       "      <td>South America</td>\n",
       "      <td>2022-07-10</td>\n",
       "      <td>2024-05-07 03:11:44</td>\n",
       "      <td>2</td>\n",
       "      <td>911.44</td>\n",
       "      <td>ActiveWear Smartwatch</td>\n",
       "      <td>Electronics</td>\n",
       "      <td>455.72</td>\n",
       "    </tr>\n",
       "    <tr>\n",
       "      <th>4</th>\n",
       "      <td>South America</td>\n",
       "      <td>2022-07-10</td>\n",
       "      <td>2024-11-02 17:04:16</td>\n",
       "      <td>3</td>\n",
       "      <td>1300.92</td>\n",
       "      <td>TechPro Headphones</td>\n",
       "      <td>Electronics</td>\n",
       "      <td>433.64</td>\n",
       "    </tr>\n",
       "  </tbody>\n",
       "</table>\n",
       "</div>"
      ],
      "text/plain": [
       "          Region  SignupDate      TransactionDate  Quantity  TotalValue  \\\n",
       "0  South America  2022-07-10  2024-01-19 03:12:55         2      114.60   \n",
       "1  South America  2022-07-10  2024-09-17 09:01:18         3      412.62   \n",
       "2  South America  2022-07-10  2024-04-08 00:01:00         2      614.94   \n",
       "3  South America  2022-07-10  2024-05-07 03:11:44         2      911.44   \n",
       "4  South America  2022-07-10  2024-11-02 17:04:16         3     1300.92   \n",
       "\n",
       "             ProductName     Category   Price  \n",
       "0     SoundWave Cookbook        Books   57.30  \n",
       "1     HomeSense Wall Art   Home Decor  137.54  \n",
       "2   SoundWave Headphones  Electronics  307.47  \n",
       "3  ActiveWear Smartwatch  Electronics  455.72  \n",
       "4     TechPro Headphones  Electronics  433.64  "
      ]
     },
     "execution_count": 33,
     "metadata": {},
     "output_type": "execute_result"
    }
   ],
   "source": [
    "South_America.head(5)"
   ]
  },
  {
   "cell_type": "code",
   "execution_count": 34,
   "id": "a53682fc",
   "metadata": {},
   "outputs": [
    {
     "data": {
      "text/plain": [
       "Category\n",
       "Books          2.677778\n",
       "Clothing       2.507937\n",
       "Electronics    2.506329\n",
       "Home Decor     2.666667\n",
       "Name: Quantity, dtype: float64"
      ]
     },
     "execution_count": 34,
     "metadata": {},
     "output_type": "execute_result"
    }
   ],
   "source": [
    "South_America.groupby('Category')['Quantity'].mean()"
   ]
  },
  {
   "cell_type": "markdown",
   "id": "866b65c4",
   "metadata": {},
   "source": [
    "In **South America**, the **Books** and **Home Decor** categories dominate sales, reflecting strong customer demand in these segments. These categories could be strategic focal points for enhancing revenue and driving targeted marketing efforts in the region."
   ]
  },
  {
   "cell_type": "code",
   "execution_count": 35,
   "id": "17bd900a",
   "metadata": {},
   "outputs": [
    {
     "data": {
      "text/plain": [
       "Category\n",
       "Books          775.022556\n",
       "Clothing       673.706190\n",
       "Electronics    744.890127\n",
       "Home Decor     670.982222\n",
       "Name: TotalValue, dtype: float64"
      ]
     },
     "execution_count": 35,
     "metadata": {},
     "output_type": "execute_result"
    }
   ],
   "source": [
    "South_America.groupby('Category')['TotalValue'].mean()"
   ]
  },
  {
   "cell_type": "markdown",
   "id": "d641ea79",
   "metadata": {},
   "source": [
    "In **South America**, the Books category generates the highest revenue, highlighting it as a key driver of sales in the region."
   ]
  },
  {
   "cell_type": "code",
   "execution_count": 36,
   "id": "7c42492e",
   "metadata": {},
   "outputs": [
    {
     "data": {
      "text/html": [
       "<div>\n",
       "<style scoped>\n",
       "    .dataframe tbody tr th:only-of-type {\n",
       "        vertical-align: middle;\n",
       "    }\n",
       "\n",
       "    .dataframe tbody tr th {\n",
       "        vertical-align: top;\n",
       "    }\n",
       "\n",
       "    .dataframe thead th {\n",
       "        text-align: right;\n",
       "    }\n",
       "</style>\n",
       "<table border=\"1\" class=\"dataframe\">\n",
       "  <thead>\n",
       "    <tr style=\"text-align: right;\">\n",
       "      <th></th>\n",
       "      <th>Region</th>\n",
       "      <th>SignupDate</th>\n",
       "      <th>TransactionDate</th>\n",
       "      <th>Quantity</th>\n",
       "      <th>TotalValue</th>\n",
       "      <th>ProductName</th>\n",
       "      <th>Category</th>\n",
       "      <th>Price</th>\n",
       "    </tr>\n",
       "  </thead>\n",
       "  <tbody>\n",
       "    <tr>\n",
       "      <th>31</th>\n",
       "      <td>North America</td>\n",
       "      <td>2024-01-13</td>\n",
       "      <td>2024-09-22 06:13:59</td>\n",
       "      <td>1</td>\n",
       "      <td>300.68</td>\n",
       "      <td>ComfortLiving Bluetooth Speaker</td>\n",
       "      <td>Electronics</td>\n",
       "      <td>300.68</td>\n",
       "    </tr>\n",
       "    <tr>\n",
       "      <th>32</th>\n",
       "      <td>North America</td>\n",
       "      <td>2024-01-13</td>\n",
       "      <td>2024-06-13 09:13:19</td>\n",
       "      <td>1</td>\n",
       "      <td>227.26</td>\n",
       "      <td>BookWorld Cookware Set</td>\n",
       "      <td>Home Decor</td>\n",
       "      <td>227.26</td>\n",
       "    </tr>\n",
       "    <tr>\n",
       "      <th>33</th>\n",
       "      <td>North America</td>\n",
       "      <td>2024-01-13</td>\n",
       "      <td>2024-11-08 20:46:29</td>\n",
       "      <td>1</td>\n",
       "      <td>147.22</td>\n",
       "      <td>TechPro Vase</td>\n",
       "      <td>Home Decor</td>\n",
       "      <td>147.22</td>\n",
       "    </tr>\n",
       "    <tr>\n",
       "      <th>34</th>\n",
       "      <td>North America</td>\n",
       "      <td>2024-01-13</td>\n",
       "      <td>2024-08-01 14:20:03</td>\n",
       "      <td>1</td>\n",
       "      <td>447.23</td>\n",
       "      <td>TechPro Novel</td>\n",
       "      <td>Books</td>\n",
       "      <td>447.23</td>\n",
       "    </tr>\n",
       "    <tr>\n",
       "      <th>35</th>\n",
       "      <td>North America</td>\n",
       "      <td>2024-01-13</td>\n",
       "      <td>2024-03-26 20:30:49</td>\n",
       "      <td>2</td>\n",
       "      <td>392.80</td>\n",
       "      <td>SoundWave Headphones</td>\n",
       "      <td>Electronics</td>\n",
       "      <td>196.40</td>\n",
       "    </tr>\n",
       "  </tbody>\n",
       "</table>\n",
       "</div>"
      ],
      "text/plain": [
       "           Region  SignupDate      TransactionDate  Quantity  TotalValue  \\\n",
       "31  North America  2024-01-13  2024-09-22 06:13:59         1      300.68   \n",
       "32  North America  2024-01-13  2024-06-13 09:13:19         1      227.26   \n",
       "33  North America  2024-01-13  2024-11-08 20:46:29         1      147.22   \n",
       "34  North America  2024-01-13  2024-08-01 14:20:03         1      447.23   \n",
       "35  North America  2024-01-13  2024-03-26 20:30:49         2      392.80   \n",
       "\n",
       "                        ProductName     Category   Price  \n",
       "31  ComfortLiving Bluetooth Speaker  Electronics  300.68  \n",
       "32           BookWorld Cookware Set   Home Decor  227.26  \n",
       "33                     TechPro Vase   Home Decor  147.22  \n",
       "34                    TechPro Novel        Books  447.23  \n",
       "35             SoundWave Headphones  Electronics  196.40  "
      ]
     },
     "execution_count": 36,
     "metadata": {},
     "output_type": "execute_result"
    }
   ],
   "source": [
    "North_America.head(5)"
   ]
  },
  {
   "cell_type": "code",
   "execution_count": 37,
   "id": "15f8ea35",
   "metadata": {},
   "outputs": [
    {
     "data": {
      "text/plain": [
       "Category\n",
       "Books          2.384615\n",
       "Clothing       2.450000\n",
       "Electronics    2.550000\n",
       "Home Decor     2.338983\n",
       "Name: Quantity, dtype: float64"
      ]
     },
     "execution_count": 37,
     "metadata": {},
     "output_type": "execute_result"
    }
   ],
   "source": [
    "North_America.groupby('Category')['Quantity'].mean()"
   ]
  },
  {
   "cell_type": "markdown",
   "id": "a94ee246",
   "metadata": {},
   "source": [
    "In North America, the Electronics category has the highest number of sales, indicating a strong demand for electronic products in the region."
   ]
  },
  {
   "cell_type": "code",
   "execution_count": 38,
   "id": "de4bf7c6",
   "metadata": {},
   "outputs": [
    {
     "data": {
      "text/plain": [
       "Category\n",
       "Books          41811.99\n",
       "Clothing       38038.49\n",
       "Electronics    44716.43\n",
       "Home Decor     27746.49\n",
       "Name: TotalValue, dtype: float64"
      ]
     },
     "execution_count": 38,
     "metadata": {},
     "output_type": "execute_result"
    }
   ],
   "source": [
    "North_America.groupby('Category')['TotalValue'].sum()"
   ]
  },
  {
   "cell_type": "markdown",
   "id": "a0e0d8c3",
   "metadata": {},
   "source": [
    "In North America, the Books category generates the highest revenue, showcasing its significant contribution to the region's overall earnings"
   ]
  },
  {
   "cell_type": "code",
   "execution_count": 39,
   "id": "b83d8167",
   "metadata": {},
   "outputs": [
    {
     "data": {
      "text/html": [
       "<div>\n",
       "<style scoped>\n",
       "    .dataframe tbody tr th:only-of-type {\n",
       "        vertical-align: middle;\n",
       "    }\n",
       "\n",
       "    .dataframe tbody tr th {\n",
       "        vertical-align: top;\n",
       "    }\n",
       "\n",
       "    .dataframe thead th {\n",
       "        text-align: right;\n",
       "    }\n",
       "</style>\n",
       "<table border=\"1\" class=\"dataframe\">\n",
       "  <thead>\n",
       "    <tr style=\"text-align: right;\">\n",
       "      <th></th>\n",
       "      <th>Region</th>\n",
       "      <th>SignupDate</th>\n",
       "      <th>TransactionDate</th>\n",
       "      <th>Quantity</th>\n",
       "      <th>TotalValue</th>\n",
       "      <th>ProductName</th>\n",
       "      <th>Category</th>\n",
       "      <th>Price</th>\n",
       "    </tr>\n",
       "  </thead>\n",
       "  <tbody>\n",
       "    <tr>\n",
       "      <th>41</th>\n",
       "      <td>Europe</td>\n",
       "      <td>2023-08-14</td>\n",
       "      <td>2024-03-16 17:26:03</td>\n",
       "      <td>1</td>\n",
       "      <td>155.65</td>\n",
       "      <td>HomeSense T-Shirt</td>\n",
       "      <td>Clothing</td>\n",
       "      <td>155.65</td>\n",
       "    </tr>\n",
       "    <tr>\n",
       "      <th>42</th>\n",
       "      <td>Europe</td>\n",
       "      <td>2023-08-14</td>\n",
       "      <td>2024-10-12 04:57:16</td>\n",
       "      <td>1</td>\n",
       "      <td>437.65</td>\n",
       "      <td>ActiveWear Smartwatch</td>\n",
       "      <td>Electronics</td>\n",
       "      <td>437.65</td>\n",
       "    </tr>\n",
       "    <tr>\n",
       "      <th>43</th>\n",
       "      <td>Europe</td>\n",
       "      <td>2023-08-14</td>\n",
       "      <td>2024-10-12 06:41:00</td>\n",
       "      <td>1</td>\n",
       "      <td>303.20</td>\n",
       "      <td>SoundWave Jeans</td>\n",
       "      <td>Clothing</td>\n",
       "      <td>303.20</td>\n",
       "    </tr>\n",
       "    <tr>\n",
       "      <th>44</th>\n",
       "      <td>Europe</td>\n",
       "      <td>2022-12-15</td>\n",
       "      <td>2024-02-22 18:44:05</td>\n",
       "      <td>2</td>\n",
       "      <td>295.90</td>\n",
       "      <td>TechPro Textbook</td>\n",
       "      <td>Books</td>\n",
       "      <td>147.95</td>\n",
       "    </tr>\n",
       "    <tr>\n",
       "      <th>45</th>\n",
       "      <td>Europe</td>\n",
       "      <td>2022-12-15</td>\n",
       "      <td>2024-11-16 18:14:23</td>\n",
       "      <td>3</td>\n",
       "      <td>1117.65</td>\n",
       "      <td>BookWorld Jacket</td>\n",
       "      <td>Clothing</td>\n",
       "      <td>372.55</td>\n",
       "    </tr>\n",
       "  </tbody>\n",
       "</table>\n",
       "</div>"
      ],
      "text/plain": [
       "    Region  SignupDate      TransactionDate  Quantity  TotalValue  \\\n",
       "41  Europe  2023-08-14  2024-03-16 17:26:03         1      155.65   \n",
       "42  Europe  2023-08-14  2024-10-12 04:57:16         1      437.65   \n",
       "43  Europe  2023-08-14  2024-10-12 06:41:00         1      303.20   \n",
       "44  Europe  2022-12-15  2024-02-22 18:44:05         2      295.90   \n",
       "45  Europe  2022-12-15  2024-11-16 18:14:23         3     1117.65   \n",
       "\n",
       "              ProductName     Category   Price  \n",
       "41      HomeSense T-Shirt     Clothing  155.65  \n",
       "42  ActiveWear Smartwatch  Electronics  437.65  \n",
       "43        SoundWave Jeans     Clothing  303.20  \n",
       "44       TechPro Textbook        Books  147.95  \n",
       "45       BookWorld Jacket     Clothing  372.55  "
      ]
     },
     "execution_count": 39,
     "metadata": {},
     "output_type": "execute_result"
    }
   ],
   "source": [
    "Europe.head(5)"
   ]
  },
  {
   "cell_type": "code",
   "execution_count": 40,
   "id": "e442c026",
   "metadata": {},
   "outputs": [
    {
     "data": {
      "text/plain": [
       "Category\n",
       "Books          2.578125\n",
       "Clothing       2.531915\n",
       "Electronics    2.482759\n",
       "Home Decor     2.569231\n",
       "Name: Quantity, dtype: float64"
      ]
     },
     "execution_count": 40,
     "metadata": {},
     "output_type": "execute_result"
    }
   ],
   "source": [
    "Europe.groupby('Category')['Quantity'].mean()"
   ]
  },
  {
   "cell_type": "markdown",
   "id": "95e62caf",
   "metadata": {},
   "source": [
    "In **Europe**, the **Books** and **Home Decor** categories record the highest number of sales, reflecting strong customer demand and popularity in these segments."
   ]
  },
  {
   "cell_type": "code",
   "execution_count": 41,
   "id": "254185a6",
   "metadata": {},
   "outputs": [
    {
     "data": {
      "text/plain": [
       "Category\n",
       "Books          47464.42\n",
       "Clothing       36335.59\n",
       "Electronics    41562.60\n",
       "Home Decor     40892.02\n",
       "Name: TotalValue, dtype: float64"
      ]
     },
     "execution_count": 41,
     "metadata": {},
     "output_type": "execute_result"
    }
   ],
   "source": [
    "Europe.groupby('Category')['TotalValue'].sum()"
   ]
  },
  {
   "cell_type": "markdown",
   "id": "f9d9fbda",
   "metadata": {},
   "source": [
    "In **Europe**, the **Books** category generates the highest revenue, underscoring its significant contribution to the region's overall earnings and strong customer preference."
   ]
  },
  {
   "cell_type": "code",
   "execution_count": 42,
   "id": "0c1e7f31",
   "metadata": {},
   "outputs": [
    {
     "data": {
      "text/html": [
       "<div>\n",
       "<style scoped>\n",
       "    .dataframe tbody tr th:only-of-type {\n",
       "        vertical-align: middle;\n",
       "    }\n",
       "\n",
       "    .dataframe tbody tr th {\n",
       "        vertical-align: top;\n",
       "    }\n",
       "\n",
       "    .dataframe thead th {\n",
       "        text-align: right;\n",
       "    }\n",
       "</style>\n",
       "<table border=\"1\" class=\"dataframe\">\n",
       "  <thead>\n",
       "    <tr style=\"text-align: right;\">\n",
       "      <th></th>\n",
       "      <th>Region</th>\n",
       "      <th>SignupDate</th>\n",
       "      <th>TransactionDate</th>\n",
       "      <th>Quantity</th>\n",
       "      <th>TotalValue</th>\n",
       "      <th>ProductName</th>\n",
       "      <th>Category</th>\n",
       "      <th>Price</th>\n",
       "    </tr>\n",
       "  </thead>\n",
       "  <tbody>\n",
       "    <tr>\n",
       "      <th>5</th>\n",
       "      <td>Asia</td>\n",
       "      <td>2022-02-13</td>\n",
       "      <td>2024-07-12 10:18:13</td>\n",
       "      <td>2</td>\n",
       "      <td>454.52</td>\n",
       "      <td>BookWorld Cookware Set</td>\n",
       "      <td>Home Decor</td>\n",
       "      <td>227.26</td>\n",
       "    </tr>\n",
       "    <tr>\n",
       "      <th>6</th>\n",
       "      <td>Asia</td>\n",
       "      <td>2022-02-13</td>\n",
       "      <td>2024-06-11 23:59:08</td>\n",
       "      <td>4</td>\n",
       "      <td>382.76</td>\n",
       "      <td>BookWorld Rug</td>\n",
       "      <td>Home Decor</td>\n",
       "      <td>95.69</td>\n",
       "    </tr>\n",
       "    <tr>\n",
       "      <th>7</th>\n",
       "      <td>Asia</td>\n",
       "      <td>2022-02-13</td>\n",
       "      <td>2024-02-28 07:44:21</td>\n",
       "      <td>2</td>\n",
       "      <td>770.74</td>\n",
       "      <td>ComfortLiving Sweater</td>\n",
       "      <td>Clothing</td>\n",
       "      <td>385.37</td>\n",
       "    </tr>\n",
       "    <tr>\n",
       "      <th>8</th>\n",
       "      <td>Asia</td>\n",
       "      <td>2022-02-13</td>\n",
       "      <td>2024-12-03 01:41:41</td>\n",
       "      <td>2</td>\n",
       "      <td>254.72</td>\n",
       "      <td>TechPro T-Shirt</td>\n",
       "      <td>Clothing</td>\n",
       "      <td>127.36</td>\n",
       "    </tr>\n",
       "    <tr>\n",
       "      <th>21</th>\n",
       "      <td>Asia</td>\n",
       "      <td>2022-08-15</td>\n",
       "      <td>2024-05-05 13:03:41</td>\n",
       "      <td>3</td>\n",
       "      <td>853.86</td>\n",
       "      <td>ActiveWear Cookware Set</td>\n",
       "      <td>Home Decor</td>\n",
       "      <td>284.62</td>\n",
       "    </tr>\n",
       "  </tbody>\n",
       "</table>\n",
       "</div>"
      ],
      "text/plain": [
       "   Region  SignupDate      TransactionDate  Quantity  TotalValue  \\\n",
       "5    Asia  2022-02-13  2024-07-12 10:18:13         2      454.52   \n",
       "6    Asia  2022-02-13  2024-06-11 23:59:08         4      382.76   \n",
       "7    Asia  2022-02-13  2024-02-28 07:44:21         2      770.74   \n",
       "8    Asia  2022-02-13  2024-12-03 01:41:41         2      254.72   \n",
       "21   Asia  2022-08-15  2024-05-05 13:03:41         3      853.86   \n",
       "\n",
       "                ProductName    Category   Price  \n",
       "5    BookWorld Cookware Set  Home Decor  227.26  \n",
       "6             BookWorld Rug  Home Decor   95.69  \n",
       "7     ComfortLiving Sweater    Clothing  385.37  \n",
       "8           TechPro T-Shirt    Clothing  127.36  \n",
       "21  ActiveWear Cookware Set  Home Decor  284.62  "
      ]
     },
     "execution_count": 42,
     "metadata": {},
     "output_type": "execute_result"
    }
   ],
   "source": [
    "Asia.head(5)"
   ]
  },
  {
   "cell_type": "code",
   "execution_count": 43,
   "id": "622476d0",
   "metadata": {},
   "outputs": [
    {
     "data": {
      "text/plain": [
       "Category\n",
       "Books          2.352941\n",
       "Clothing       2.862069\n",
       "Electronics    2.315789\n",
       "Home Decor     2.730769\n",
       "Name: Quantity, dtype: float64"
      ]
     },
     "execution_count": 43,
     "metadata": {},
     "output_type": "execute_result"
    }
   ],
   "source": [
    "Asia.groupby('Category')['Quantity'].mean()"
   ]
  },
  {
   "cell_type": "markdown",
   "id": "64275184",
   "metadata": {},
   "source": [
    "In **Asia**, the **Clothing** and **Home Decor** categories have the highest number of sales, indicating strong customer demand in these segments."
   ]
  },
  {
   "cell_type": "code",
   "execution_count": 44,
   "id": "ccc07ec4",
   "metadata": {},
   "outputs": [
    {
     "data": {
      "text/plain": [
       "Category\n",
       "Books          33119.03\n",
       "Clothing       49353.09\n",
       "Electronics    35658.15\n",
       "Home Decor     33944.70\n",
       "Name: TotalValue, dtype: float64"
      ]
     },
     "execution_count": 44,
     "metadata": {},
     "output_type": "execute_result"
    }
   ],
   "source": [
    "Asia.groupby('Category')['TotalValue'].sum()"
   ]
  },
  {
   "cell_type": "markdown",
   "id": "81db7eb5",
   "metadata": {},
   "source": [
    "In **Asia**, the **Clothing** category generates the highest revenue, highlighting its strong market performance and significant contribution to the region's overall earnings."
   ]
  }
 ],
 "metadata": {
  "kernelspec": {
   "display_name": "Python 3 (ipykernel)",
   "language": "python",
   "name": "python3"
  },
  "language_info": {
   "codemirror_mode": {
    "name": "ipython",
    "version": 3
   },
   "file_extension": ".py",
   "mimetype": "text/x-python",
   "name": "python",
   "nbconvert_exporter": "python",
   "pygments_lexer": "ipython3",
   "version": "3.11.3"
  }
 },
 "nbformat": 4,
 "nbformat_minor": 5
}
